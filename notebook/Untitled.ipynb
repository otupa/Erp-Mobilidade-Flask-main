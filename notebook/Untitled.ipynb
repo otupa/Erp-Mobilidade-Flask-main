{
 "cells": [
  {
   "cell_type": "code",
   "execution_count": 1,
   "id": "4dd2ec94-5a26-49ba-8c82-aaf85e1e58ad",
   "metadata": {},
   "outputs": [
    {
     "name": "stdout",
     "output_type": "stream",
     "text": [
      "b'\\xfc\\xf2\\x040OAF~\\t\\xc7\\xa7\\x18\\t\\xb0\\xb2\\xa9\\xf2\\xea\\xe67Z\\xa4H\\x1b'\n"
     ]
    }
   ],
   "source": [
    "import os\n",
    "\n",
    "secret_key = os.urandom(24)\n",
    "print(secret_key)\n"
   ]
  },
  {
   "cell_type": "code",
   "execution_count": null,
   "id": "0dbd8c92-b66d-4244-82e1-2d0b9de196aa",
   "metadata": {},
   "outputs": [],
   "source": []
  }
 ],
 "metadata": {
  "kernelspec": {
   "display_name": "Python 3 (ipykernel)",
   "language": "python",
   "name": "python3"
  },
  "language_info": {
   "codemirror_mode": {
    "name": "ipython",
    "version": 3
   },
   "file_extension": ".py",
   "mimetype": "text/x-python",
   "name": "python",
   "nbconvert_exporter": "python",
   "pygments_lexer": "ipython3",
   "version": "3.12.2"
  }
 },
 "nbformat": 4,
 "nbformat_minor": 5
}
